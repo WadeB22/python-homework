{
 "cells": [
  {
   "cell_type": "code",
   "execution_count": 90,
   "id": "9a30950e-c9c8-4968-a08b-e68e776fe315",
   "metadata": {},
   "outputs": [],
   "source": [
    "# Import the pathlib, os and csv library\n",
    "from pathlib import Path\n",
    "import os \n",
    "import csv"
   ]
  },
  {
   "cell_type": "code",
   "execution_count": 91,
   "id": "8a6ae495-d7c0-43b3-8b0a-9089a88d3828",
   "metadata": {},
   "outputs": [],
   "source": [
    "# Set the file path\n",
    "csvpath = Path('budget_data.csv')"
   ]
  },
  {
   "cell_type": "code",
   "execution_count": 150,
   "id": "90a71914-2bd1-4856-ad86-f778d287045d",
   "metadata": {},
   "outputs": [
    {
     "name": "stdout",
     "output_type": "stream",
     "text": [
      "Financial Analysis\n",
      "------------------------------\n",
      "Total Months: 86\n",
      "Total Profit/(Loss): $38382578\n",
      "Average Monthly Change: $-2315.12\n",
      "Greatest Increase in Profits: Feb-2012 = 1926159\n",
      "Greatest Decrease in Profits: Sep-2013 = -2196167\n"
     ]
    }
   ],
   "source": [
    "# Initialize variables\n",
    "count = 0\n",
    "pnl = 0\n",
    "prev_pnl = 0\n",
    "change = 0\n",
    "total_change = 0\n",
    "total_pnl = 0\n",
    "min_change = 0\n",
    "max_change = 0\n",
    "ave_change = 0\n",
    "min_month = \"\"\n",
    "max_month = \"\"\n",
    "\n",
    "# Open the csv file as an object\n",
    "with open(csvpath, 'r') as csvfile:\n",
    "    \n",
    "    # Pass in the csv file to csv.reader() function and separating fields\n",
    "    csvreader = csv.reader(csvfile, delimiter=\",\")\n",
    "    \n",
    "    # Read the header row first\n",
    "    csv_header = next(csvreader)\n",
    "    \n",
    "    # Pass through each row of data, counting months and totaling results\n",
    "    for row in csvreader:\n",
    "        count += 1\n",
    "        pnl = int(row[1])\n",
    "        total_pnl += pnl\n",
    "\n",
    "        # Calculating the monthly change and determining min/max months\n",
    "        if prev_pnl != 0:\n",
    "            change = pnl - prev_pnl\n",
    "            total_change += change\n",
    "            if change < min_change:\n",
    "                min_change = change\n",
    "                min_month = row[0]\n",
    "            elif change > max_change:\n",
    "                max_change = change\n",
    "                max_month = row[0]\n",
    "        \n",
    "        # Set monthly result as prior month, before passing thru next row\n",
    "        # Used in determining monthly change above\n",
    "        prev_pnl = pnl\n",
    "        \n",
    "    # Calculate the average change rounded to two decimals\n",
    "    ave_change = round(total_change / (count - 1), 2)\n",
    "        \n",
    "# Print the formatted results to the terminal    \n",
    "print(\"Financial Analysis\")\n",
    "print(\"------------------------------\")\n",
    "print(f\"Total Months: {count}\")\n",
    "print(f\"Total Profit/(Loss): ${total_pnl}\")\n",
    "print(f\"Average Monthly Change: ${ave_change}\")\n",
    "print(f\"Greatest Increase in Profits: {max_month} = {max_change}\")\n",
    "print(f\"Greatest Decrease in Profits: {min_month} = {min_change}\")\n",
    "\n",
    "# Create and open a text file, and write the results to it \n",
    "with open('pybank_results.txt', 'w') as file:\n",
    "    file.write(\"Financial Analysis  ===   \")\n",
    "    file.write(f\"Total Months: {count};  \")\n",
    "    file.write(f\"Total Profit/(Loss): ${total_pnl};  \")\n",
    "    file.write(f\"Average Monthly Change: ${ave_change};  \")\n",
    "    file.write(f\"Greatest Increase in Profits: {max_month} = {max_change};  \")\n",
    "    file.write(f\"Greatest Decrease in Profits: {min_month} = {min_change}\")\n",
    "        \n",
    "\n"
   ]
  },
  {
   "cell_type": "code",
   "execution_count": null,
   "id": "e55913c7-e3f8-40b4-80bb-a5502b5e74fc",
   "metadata": {},
   "outputs": [],
   "source": []
  }
 ],
 "metadata": {
  "kernelspec": {
   "display_name": "Python 3 (ipykernel)",
   "language": "python",
   "name": "python3"
  },
  "language_info": {
   "codemirror_mode": {
    "name": "ipython",
    "version": 3
   },
   "file_extension": ".py",
   "mimetype": "text/x-python",
   "name": "python",
   "nbconvert_exporter": "python",
   "pygments_lexer": "ipython3",
   "version": "3.7.13"
  }
 },
 "nbformat": 4,
 "nbformat_minor": 5
}
